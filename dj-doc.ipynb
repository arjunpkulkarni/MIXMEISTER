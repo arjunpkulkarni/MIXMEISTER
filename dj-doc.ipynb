{
 "cells": [
  {
   "cell_type": "code",
   "execution_count": 29,
   "metadata": {},
   "outputs": [
    {
     "name": "stdout",
     "output_type": "stream",
     "text": [
      "Using bucket dj-doc-bucket\n",
      "us-east-1\n",
      "1.28.22\n"
     ]
    }
   ],
   "source": [
    "import sagemaker\n",
    "from sklearn.model_selection import train_test_split\n",
    "import boto3\n",
    "import pandas as pd\n",
    "\n",
    "sm_boto3 = boto3.client(\"sagemaker\")\n",
    "sess = sagemaker.Session()\n",
    "region = sess.boto_session.region_name\n",
    "bucket = 'dj-doc-bucket'\n",
    "print(\"Using bucket \" + bucket)\n",
    "print(region)\n",
    "print(boto3.__version__)"
   ]
  },
  {
   "cell_type": "code",
   "execution_count": 7,
   "metadata": {},
   "outputs": [],
   "source": [
    "df = pd.read_csv(\"data.csv\")"
   ]
  },
  {
   "cell_type": "code",
   "execution_count": 8,
   "metadata": {},
   "outputs": [
    {
     "data": {
      "text/html": [
       "<div>\n",
       "<style scoped>\n",
       "    .dataframe tbody tr th:only-of-type {\n",
       "        vertical-align: middle;\n",
       "    }\n",
       "\n",
       "    .dataframe tbody tr th {\n",
       "        vertical-align: top;\n",
       "    }\n",
       "\n",
       "    .dataframe thead th {\n",
       "        text-align: right;\n",
       "    }\n",
       "</style>\n",
       "<table border=\"1\" class=\"dataframe\">\n",
       "  <thead>\n",
       "    <tr style=\"text-align: right;\">\n",
       "      <th></th>\n",
       "      <th>acousticness</th>\n",
       "      <th>artists</th>\n",
       "      <th>danceability</th>\n",
       "      <th>duration_ms</th>\n",
       "      <th>energy</th>\n",
       "      <th>explicit</th>\n",
       "      <th>id</th>\n",
       "      <th>instrumentalness</th>\n",
       "      <th>key</th>\n",
       "      <th>liveness</th>\n",
       "      <th>loudness</th>\n",
       "      <th>mode</th>\n",
       "      <th>name</th>\n",
       "      <th>popularity</th>\n",
       "      <th>release_date</th>\n",
       "      <th>speechiness</th>\n",
       "      <th>tempo</th>\n",
       "      <th>valence</th>\n",
       "      <th>year</th>\n",
       "      <th>mixing score</th>\n",
       "    </tr>\n",
       "  </thead>\n",
       "  <tbody>\n",
       "    <tr>\n",
       "      <th>0</th>\n",
       "      <td>0.995</td>\n",
       "      <td>['Carl Woitschach']</td>\n",
       "      <td>0.708</td>\n",
       "      <td>158648</td>\n",
       "      <td>0.1950</td>\n",
       "      <td>0</td>\n",
       "      <td>6KbQ3uYMLKb5jDxLF7wYDD</td>\n",
       "      <td>0.563</td>\n",
       "      <td>10</td>\n",
       "      <td>0.1510</td>\n",
       "      <td>-12.428</td>\n",
       "      <td>1</td>\n",
       "      <td>Singende Bataillone 1. Teil</td>\n",
       "      <td>0</td>\n",
       "      <td>1928</td>\n",
       "      <td>0.0506</td>\n",
       "      <td>118.469</td>\n",
       "      <td>0.7790</td>\n",
       "      <td>1928</td>\n",
       "      <td>NaN</td>\n",
       "    </tr>\n",
       "    <tr>\n",
       "      <th>1</th>\n",
       "      <td>0.994</td>\n",
       "      <td>['Robert Schumann', 'Vladimir Horowitz']</td>\n",
       "      <td>0.379</td>\n",
       "      <td>282133</td>\n",
       "      <td>0.0135</td>\n",
       "      <td>0</td>\n",
       "      <td>6KuQTIu1KoTTkLXKrwlLPV</td>\n",
       "      <td>0.901</td>\n",
       "      <td>8</td>\n",
       "      <td>0.0763</td>\n",
       "      <td>-28.454</td>\n",
       "      <td>1</td>\n",
       "      <td>Fantasiestücke, Op. 111: Più tosto lento</td>\n",
       "      <td>0</td>\n",
       "      <td>1928</td>\n",
       "      <td>0.0462</td>\n",
       "      <td>83.972</td>\n",
       "      <td>0.0767</td>\n",
       "      <td>1928</td>\n",
       "      <td>NaN</td>\n",
       "    </tr>\n",
       "    <tr>\n",
       "      <th>2</th>\n",
       "      <td>0.604</td>\n",
       "      <td>['Seweryn Goszczyński']</td>\n",
       "      <td>0.749</td>\n",
       "      <td>104300</td>\n",
       "      <td>0.2200</td>\n",
       "      <td>0</td>\n",
       "      <td>6L63VW0PibdM1HDSBoqnoM</td>\n",
       "      <td>0.000</td>\n",
       "      <td>5</td>\n",
       "      <td>0.1190</td>\n",
       "      <td>-19.924</td>\n",
       "      <td>0</td>\n",
       "      <td>Chapter 1.18 - Zamek kaniowski</td>\n",
       "      <td>0</td>\n",
       "      <td>1928</td>\n",
       "      <td>0.9290</td>\n",
       "      <td>107.177</td>\n",
       "      <td>0.8800</td>\n",
       "      <td>1928</td>\n",
       "      <td>NaN</td>\n",
       "    </tr>\n",
       "    <tr>\n",
       "      <th>3</th>\n",
       "      <td>0.995</td>\n",
       "      <td>['Francisco Canaro']</td>\n",
       "      <td>0.781</td>\n",
       "      <td>180760</td>\n",
       "      <td>0.1300</td>\n",
       "      <td>0</td>\n",
       "      <td>6M94FkXd15sOAOQYRnWPN8</td>\n",
       "      <td>0.887</td>\n",
       "      <td>1</td>\n",
       "      <td>0.1110</td>\n",
       "      <td>-14.734</td>\n",
       "      <td>0</td>\n",
       "      <td>Bebamos Juntos - Instrumental (Remasterizado)</td>\n",
       "      <td>0</td>\n",
       "      <td>1928-09-25</td>\n",
       "      <td>0.0926</td>\n",
       "      <td>108.003</td>\n",
       "      <td>0.7200</td>\n",
       "      <td>1928</td>\n",
       "      <td>NaN</td>\n",
       "    </tr>\n",
       "    <tr>\n",
       "      <th>4</th>\n",
       "      <td>0.990</td>\n",
       "      <td>['Frédéric Chopin', 'Vladimir Horowitz']</td>\n",
       "      <td>0.210</td>\n",
       "      <td>687733</td>\n",
       "      <td>0.2040</td>\n",
       "      <td>0</td>\n",
       "      <td>6N6tiFZ9vLTSOIxkj8qKrd</td>\n",
       "      <td>0.908</td>\n",
       "      <td>11</td>\n",
       "      <td>0.0980</td>\n",
       "      <td>-16.829</td>\n",
       "      <td>1</td>\n",
       "      <td>Polonaise-Fantaisie in A-Flat Major, Op. 61</td>\n",
       "      <td>1</td>\n",
       "      <td>1928</td>\n",
       "      <td>0.0424</td>\n",
       "      <td>62.149</td>\n",
       "      <td>0.0693</td>\n",
       "      <td>1928</td>\n",
       "      <td>NaN</td>\n",
       "    </tr>\n",
       "  </tbody>\n",
       "</table>\n",
       "</div>"
      ],
      "text/plain": [
       "   acousticness                                   artists  danceability  \\\n",
       "0         0.995                       ['Carl Woitschach']         0.708   \n",
       "1         0.994  ['Robert Schumann', 'Vladimir Horowitz']         0.379   \n",
       "2         0.604                   ['Seweryn Goszczyński']         0.749   \n",
       "3         0.995                      ['Francisco Canaro']         0.781   \n",
       "4         0.990  ['Frédéric Chopin', 'Vladimir Horowitz']         0.210   \n",
       "\n",
       "   duration_ms  energy  explicit                      id  instrumentalness  \\\n",
       "0       158648  0.1950         0  6KbQ3uYMLKb5jDxLF7wYDD             0.563   \n",
       "1       282133  0.0135         0  6KuQTIu1KoTTkLXKrwlLPV             0.901   \n",
       "2       104300  0.2200         0  6L63VW0PibdM1HDSBoqnoM             0.000   \n",
       "3       180760  0.1300         0  6M94FkXd15sOAOQYRnWPN8             0.887   \n",
       "4       687733  0.2040         0  6N6tiFZ9vLTSOIxkj8qKrd             0.908   \n",
       "\n",
       "   key  liveness  loudness  mode  \\\n",
       "0   10    0.1510   -12.428     1   \n",
       "1    8    0.0763   -28.454     1   \n",
       "2    5    0.1190   -19.924     0   \n",
       "3    1    0.1110   -14.734     0   \n",
       "4   11    0.0980   -16.829     1   \n",
       "\n",
       "                                            name  popularity release_date  \\\n",
       "0                    Singende Bataillone 1. Teil           0         1928   \n",
       "1       Fantasiestücke, Op. 111: Più tosto lento           0         1928   \n",
       "2                 Chapter 1.18 - Zamek kaniowski           0         1928   \n",
       "3  Bebamos Juntos - Instrumental (Remasterizado)           0   1928-09-25   \n",
       "4    Polonaise-Fantaisie in A-Flat Major, Op. 61           1         1928   \n",
       "\n",
       "   speechiness    tempo  valence  year  mixing score  \n",
       "0       0.0506  118.469   0.7790  1928           NaN  \n",
       "1       0.0462   83.972   0.0767  1928           NaN  \n",
       "2       0.9290  107.177   0.8800  1928           NaN  \n",
       "3       0.0926  108.003   0.7200  1928           NaN  \n",
       "4       0.0424   62.149   0.0693  1928           NaN  "
      ]
     },
     "execution_count": 8,
     "metadata": {},
     "output_type": "execute_result"
    }
   ],
   "source": [
    "df.head()"
   ]
  },
  {
   "cell_type": "code",
   "execution_count": 7,
   "metadata": {},
   "outputs": [
    {
     "data": {
      "text/plain": [
       "(169909, 20)"
      ]
     },
     "execution_count": 7,
     "metadata": {},
     "output_type": "execute_result"
    }
   ],
   "source": [
    "df.shape"
   ]
  },
  {
   "cell_type": "code",
   "execution_count": 10,
   "metadata": {},
   "outputs": [
    {
     "data": {
      "text/plain": [
       "Index(['acousticness', 'artists', 'danceability', 'duration_ms', 'energy',\n",
       "       'explicit', 'id', 'instrumentalness', 'key', 'liveness', 'loudness',\n",
       "       'mode', 'name', 'popularity', 'release_date', 'speechiness', 'tempo',\n",
       "       'valence', 'year', 'mixing score'],\n",
       "      dtype='object')"
      ]
     },
     "execution_count": 10,
     "metadata": {},
     "output_type": "execute_result"
    }
   ],
   "source": [
    "df.columns"
   ]
  },
  {
   "cell_type": "code",
   "execution_count": 9,
   "metadata": {},
   "outputs": [
    {
     "data": {
      "text/plain": [
       "acousticness          0.0\n",
       "artists               0.0\n",
       "danceability          0.0\n",
       "duration_ms           0.0\n",
       "energy                0.0\n",
       "explicit              0.0\n",
       "id                    0.0\n",
       "instrumentalness      0.0\n",
       "key                   0.0\n",
       "liveness              0.0\n",
       "loudness              0.0\n",
       "mode                  0.0\n",
       "name                  0.0\n",
       "popularity            0.0\n",
       "release_date          0.0\n",
       "speechiness           0.0\n",
       "tempo                 0.0\n",
       "valence               0.0\n",
       "year                  0.0\n",
       "mixing score        100.0\n",
       "dtype: float64"
      ]
     },
     "execution_count": 9,
     "metadata": {},
     "output_type": "execute_result"
    }
   ],
   "source": [
    "df.isnull().mean() * 100"
   ]
  },
  {
   "cell_type": "code",
   "execution_count": 11,
   "metadata": {},
   "outputs": [
    {
     "data": {
      "text/plain": [
       "['acousticness',\n",
       " 'artists',\n",
       " 'danceability',\n",
       " 'duration_ms',\n",
       " 'energy',\n",
       " 'explicit',\n",
       " 'id',\n",
       " 'instrumentalness',\n",
       " 'key',\n",
       " 'liveness',\n",
       " 'loudness',\n",
       " 'mode',\n",
       " 'name',\n",
       " 'popularity',\n",
       " 'release_date',\n",
       " 'speechiness',\n",
       " 'tempo',\n",
       " 'valence',\n",
       " 'year',\n",
       " 'mixing score']"
      ]
     },
     "execution_count": 11,
     "metadata": {},
     "output_type": "execute_result"
    }
   ],
   "source": [
    "features = list(df.columns)\n",
    "features"
   ]
  },
  {
   "cell_type": "code",
   "execution_count": 12,
   "metadata": {},
   "outputs": [
    {
     "data": {
      "text/plain": [
       "'mixing score'"
      ]
     },
     "execution_count": 12,
     "metadata": {},
     "output_type": "execute_result"
    }
   ],
   "source": [
    "label = features.pop(-1)\n",
    "label"
   ]
  },
  {
   "cell_type": "code",
   "execution_count": 13,
   "metadata": {},
   "outputs": [],
   "source": [
    "x = df[features]\n",
    "y = df[label]"
   ]
  },
  {
   "cell_type": "code",
   "execution_count": 14,
   "metadata": {},
   "outputs": [
    {
     "data": {
      "text/plain": [
       "(169909, 19)"
      ]
     },
     "execution_count": 14,
     "metadata": {},
     "output_type": "execute_result"
    }
   ],
   "source": [
    "x.shape"
   ]
  },
  {
   "cell_type": "code",
   "execution_count": 17,
   "metadata": {},
   "outputs": [
    {
     "data": {
      "text/plain": [
       "Series([], Name: count, dtype: int64)"
      ]
     },
     "execution_count": 17,
     "metadata": {},
     "output_type": "execute_result"
    }
   ],
   "source": [
    "y.value_counts()"
   ]
  },
  {
   "cell_type": "code",
   "execution_count": 18,
   "metadata": {},
   "outputs": [],
   "source": [
    "X_Train, X_Test, y_train, y_test = train_test_split(x, y, test_size=0.15, random_state=0)"
   ]
  },
  {
   "cell_type": "code",
   "execution_count": 20,
   "metadata": {},
   "outputs": [
    {
     "name": "stdout",
     "output_type": "stream",
     "text": [
      "(144422, 19)\n",
      "(25487, 19)\n",
      "(144422,)\n",
      "(25487,)\n"
     ]
    }
   ],
   "source": [
    "print(X_Train.shape)\n",
    "print(X_Test.shape)\n",
    "print(y_train.shape)\n",
    "print(y_test.shape)"
   ]
  },
  {
   "cell_type": "code",
   "execution_count": 21,
   "metadata": {},
   "outputs": [],
   "source": [
    "trainX = pd.DataFrame(X_Train)\n",
    "trainX[label] = y_train\n",
    "\n",
    "testX = pd.DataFrame(X_Test)\n",
    "testX[label] = y_test"
   ]
  },
  {
   "cell_type": "code",
   "execution_count": 22,
   "metadata": {},
   "outputs": [
    {
     "name": "stdout",
     "output_type": "stream",
     "text": [
      "(144422, 20)\n",
      "(25487, 20)\n"
     ]
    }
   ],
   "source": [
    "print(trainX.shape)\n",
    "print(testX.shape)"
   ]
  },
  {
   "cell_type": "code",
   "execution_count": 23,
   "metadata": {},
   "outputs": [
    {
     "data": {
      "text/html": [
       "<div>\n",
       "<style scoped>\n",
       "    .dataframe tbody tr th:only-of-type {\n",
       "        vertical-align: middle;\n",
       "    }\n",
       "\n",
       "    .dataframe tbody tr th {\n",
       "        vertical-align: top;\n",
       "    }\n",
       "\n",
       "    .dataframe thead th {\n",
       "        text-align: right;\n",
       "    }\n",
       "</style>\n",
       "<table border=\"1\" class=\"dataframe\">\n",
       "  <thead>\n",
       "    <tr style=\"text-align: right;\">\n",
       "      <th></th>\n",
       "      <th>acousticness</th>\n",
       "      <th>artists</th>\n",
       "      <th>danceability</th>\n",
       "      <th>duration_ms</th>\n",
       "      <th>energy</th>\n",
       "      <th>explicit</th>\n",
       "      <th>id</th>\n",
       "      <th>instrumentalness</th>\n",
       "      <th>key</th>\n",
       "      <th>liveness</th>\n",
       "      <th>loudness</th>\n",
       "      <th>mode</th>\n",
       "      <th>name</th>\n",
       "      <th>popularity</th>\n",
       "      <th>release_date</th>\n",
       "      <th>speechiness</th>\n",
       "      <th>tempo</th>\n",
       "      <th>valence</th>\n",
       "      <th>year</th>\n",
       "      <th>mixing score</th>\n",
       "    </tr>\n",
       "  </thead>\n",
       "  <tbody>\n",
       "    <tr>\n",
       "      <th>51243</th>\n",
       "      <td>0.00153</td>\n",
       "      <td>['Black Sabbath']</td>\n",
       "      <td>0.485</td>\n",
       "      <td>372145</td>\n",
       "      <td>0.662</td>\n",
       "      <td>0</td>\n",
       "      <td>2eOVH8WDOmwcPX2oqEAJ5Q</td>\n",
       "      <td>0.024000</td>\n",
       "      <td>5</td>\n",
       "      <td>0.176</td>\n",
       "      <td>-10.828</td>\n",
       "      <td>1</td>\n",
       "      <td>Jack the Stripper / Fairies Wear Boots - 2013 ...</td>\n",
       "      <td>22</td>\n",
       "      <td>1976-02-03</td>\n",
       "      <td>0.0410</td>\n",
       "      <td>139.687</td>\n",
       "      <td>0.631</td>\n",
       "      <td>1976</td>\n",
       "      <td>NaN</td>\n",
       "    </tr>\n",
       "    <tr>\n",
       "      <th>16214</th>\n",
       "      <td>0.61300</td>\n",
       "      <td>['Arijit Singh']</td>\n",
       "      <td>0.405</td>\n",
       "      <td>287422</td>\n",
       "      <td>0.664</td>\n",
       "      <td>0</td>\n",
       "      <td>0vv7WPmdbL3fkN8UsiiFqh</td>\n",
       "      <td>0.000001</td>\n",
       "      <td>4</td>\n",
       "      <td>0.525</td>\n",
       "      <td>-5.497</td>\n",
       "      <td>1</td>\n",
       "      <td>Phir Kabhi (From \"M.S.Dhoni - The Untold Story\")</td>\n",
       "      <td>0</td>\n",
       "      <td>2020-06-16</td>\n",
       "      <td>0.0328</td>\n",
       "      <td>81.924</td>\n",
       "      <td>0.400</td>\n",
       "      <td>2020</td>\n",
       "      <td>NaN</td>\n",
       "    </tr>\n",
       "    <tr>\n",
       "      <th>30164</th>\n",
       "      <td>0.55000</td>\n",
       "      <td>['Tyrone Davis']</td>\n",
       "      <td>0.781</td>\n",
       "      <td>223267</td>\n",
       "      <td>0.444</td>\n",
       "      <td>0</td>\n",
       "      <td>455FnqcfxVyP7GRsqiK6Vo</td>\n",
       "      <td>0.000001</td>\n",
       "      <td>6</td>\n",
       "      <td>0.136</td>\n",
       "      <td>-12.285</td>\n",
       "      <td>0</td>\n",
       "      <td>Kiss You</td>\n",
       "      <td>36</td>\n",
       "      <td>2000-09-26</td>\n",
       "      <td>0.0511</td>\n",
       "      <td>104.395</td>\n",
       "      <td>0.598</td>\n",
       "      <td>2000</td>\n",
       "      <td>NaN</td>\n",
       "    </tr>\n",
       "    <tr>\n",
       "      <th>95355</th>\n",
       "      <td>0.10900</td>\n",
       "      <td>['Foxy Brown', 'Blackstreet']</td>\n",
       "      <td>0.774</td>\n",
       "      <td>229400</td>\n",
       "      <td>0.480</td>\n",
       "      <td>1</td>\n",
       "      <td>6Xo9osN1HErsEJoqwj4eDg</td>\n",
       "      <td>0.000661</td>\n",
       "      <td>9</td>\n",
       "      <td>0.313</td>\n",
       "      <td>-6.599</td>\n",
       "      <td>0</td>\n",
       "      <td>Get Me Home</td>\n",
       "      <td>61</td>\n",
       "      <td>1996-01-01</td>\n",
       "      <td>0.2280</td>\n",
       "      <td>96.067</td>\n",
       "      <td>0.332</td>\n",
       "      <td>1996</td>\n",
       "      <td>NaN</td>\n",
       "    </tr>\n",
       "    <tr>\n",
       "      <th>4513</th>\n",
       "      <td>0.01330</td>\n",
       "      <td>['Honeymoon Suite']</td>\n",
       "      <td>0.542</td>\n",
       "      <td>271307</td>\n",
       "      <td>0.632</td>\n",
       "      <td>0</td>\n",
       "      <td>4vCR2DqRydeYDvZQkfzBmE</td>\n",
       "      <td>0.000012</td>\n",
       "      <td>2</td>\n",
       "      <td>0.268</td>\n",
       "      <td>-11.776</td>\n",
       "      <td>0</td>\n",
       "      <td>Burning in Love</td>\n",
       "      <td>40</td>\n",
       "      <td>1984-06-14</td>\n",
       "      <td>0.0298</td>\n",
       "      <td>122.101</td>\n",
       "      <td>0.619</td>\n",
       "      <td>1984</td>\n",
       "      <td>NaN</td>\n",
       "    </tr>\n",
       "  </tbody>\n",
       "</table>\n",
       "</div>"
      ],
      "text/plain": [
       "       acousticness                        artists  danceability  duration_ms  \\\n",
       "51243       0.00153              ['Black Sabbath']         0.485       372145   \n",
       "16214       0.61300               ['Arijit Singh']         0.405       287422   \n",
       "30164       0.55000               ['Tyrone Davis']         0.781       223267   \n",
       "95355       0.10900  ['Foxy Brown', 'Blackstreet']         0.774       229400   \n",
       "4513        0.01330            ['Honeymoon Suite']         0.542       271307   \n",
       "\n",
       "       energy  explicit                      id  instrumentalness  key  \\\n",
       "51243   0.662         0  2eOVH8WDOmwcPX2oqEAJ5Q          0.024000    5   \n",
       "16214   0.664         0  0vv7WPmdbL3fkN8UsiiFqh          0.000001    4   \n",
       "30164   0.444         0  455FnqcfxVyP7GRsqiK6Vo          0.000001    6   \n",
       "95355   0.480         1  6Xo9osN1HErsEJoqwj4eDg          0.000661    9   \n",
       "4513    0.632         0  4vCR2DqRydeYDvZQkfzBmE          0.000012    2   \n",
       "\n",
       "       liveness  loudness  mode  \\\n",
       "51243     0.176   -10.828     1   \n",
       "16214     0.525    -5.497     1   \n",
       "30164     0.136   -12.285     0   \n",
       "95355     0.313    -6.599     0   \n",
       "4513      0.268   -11.776     0   \n",
       "\n",
       "                                                    name  popularity  \\\n",
       "51243  Jack the Stripper / Fairies Wear Boots - 2013 ...          22   \n",
       "16214   Phir Kabhi (From \"M.S.Dhoni - The Untold Story\")           0   \n",
       "30164                                           Kiss You          36   \n",
       "95355                                        Get Me Home          61   \n",
       "4513                                     Burning in Love          40   \n",
       "\n",
       "      release_date  speechiness    tempo  valence  year  mixing score  \n",
       "51243   1976-02-03       0.0410  139.687    0.631  1976           NaN  \n",
       "16214   2020-06-16       0.0328   81.924    0.400  2020           NaN  \n",
       "30164   2000-09-26       0.0511  104.395    0.598  2000           NaN  \n",
       "95355   1996-01-01       0.2280   96.067    0.332  1996           NaN  \n",
       "4513    1984-06-14       0.0298  122.101    0.619  1984           NaN  "
      ]
     },
     "execution_count": 23,
     "metadata": {},
     "output_type": "execute_result"
    }
   ],
   "source": [
    "trainX.head()"
   ]
  },
  {
   "cell_type": "code",
   "execution_count": 24,
   "metadata": {},
   "outputs": [
    {
     "data": {
      "text/plain": [
       "acousticness             0\n",
       "artists                  0\n",
       "danceability             0\n",
       "duration_ms              0\n",
       "energy                   0\n",
       "explicit                 0\n",
       "id                       0\n",
       "instrumentalness         0\n",
       "key                      0\n",
       "liveness                 0\n",
       "loudness                 0\n",
       "mode                     0\n",
       "name                     0\n",
       "popularity               0\n",
       "release_date             0\n",
       "speechiness              0\n",
       "tempo                    0\n",
       "valence                  0\n",
       "year                     0\n",
       "mixing score        144422\n",
       "dtype: int64"
      ]
     },
     "execution_count": 24,
     "metadata": {},
     "output_type": "execute_result"
    }
   ],
   "source": [
    "trainX.isnull().sum()"
   ]
  },
  {
   "cell_type": "code",
   "execution_count": 25,
   "metadata": {},
   "outputs": [],
   "source": [
    "trainX.to_csv(\"train-V-1.csv\", index = False)\n",
    "testX.to_csv(\"test-V-1.csv\", index = False)"
   ]
  },
  {
   "cell_type": "code",
   "execution_count": 31,
   "metadata": {},
   "outputs": [
    {
     "name": "stdout",
     "output_type": "stream",
     "text": [
      "Data upload successful.\n",
      "Train data path: s3://dj-doc-bucket/sagemaker/dj-mixing-analysis/sklearncontainer/train-V-1.csv\n",
      "Test data path: s3://dj-doc-bucket/sagemaker/dj-mixing-analysis/sklearncontainer/test-V-1.csv\n"
     ]
    }
   ],
   "source": [
    "try:\n",
    "    sk_prefix = \"sagemaker/dj-mixing-analysis/sklearncontainer\"\n",
    "    trainpath = sess.upload_data(\n",
    "        path=\"train-V-1.csv\", bucket=bucket, key_prefix=sk_prefix \n",
    "    )\n",
    "\n",
    "    testpath = sess.upload_data(\n",
    "        path=\"test-V-1.csv\", bucket=bucket, key_prefix=sk_prefix\n",
    "    )\n",
    "    print(\"Data upload successful.\")\n",
    "    print(\"Train data path:\", trainpath)\n",
    "    print(\"Test data path:\", testpath)\n",
    "except Exception as e:\n",
    "    print(\"Data upload failed:\", str(e))\n"
   ]
  },
  {
   "cell_type": "code",
   "execution_count": 1,
   "metadata": {},
   "outputs": [
    {
     "name": "stdout",
     "output_type": "stream",
     "text": [
      "Overwriting script.py\n"
     ]
    }
   ],
   "source": [
    "import os\n",
    "import argparse\n",
    "import joblib\n",
    "import pandas as pd\n",
    "from sklearn.linear_model import LinearRegression\n",
    "\n",
    "def model_fn(model_dir):\n",
    "    model = joblib.load(os.path.join(model_dir, \"model.joblib\"))\n",
    "    return model\n",
    "\n",
    "def main():\n",
    "    print(\"[INFO] Extracting Arguments\")\n",
    "    parser = argparse.ArgumentParser()\n",
    "\n",
    "    parser.add_argument(\"--model-dir\", type=str, default=os.environ.get(\"SM_MODEL_DIR\"))\n",
    "    parser.add_argument(\"--train\", type=str, default=os.environ.get(\"SM_CHANNEL_TRAIN\"))\n",
    "    parser.add_argument(\"--test\", type=str, default=os.environ.get(\"SM_CHANNEL_TEST\"))\n",
    "    parser.add_argument(\"--train-file\", type=str, default=\"train-V-1.csv\")\n",
    "    parser.add_argument(\"--test-file\", type=str, default=\"test-V-1.csv\")\n",
    "\n",
    "    args, _ = parser.parse_known_args()\n",
    "\n",
    "    print(\"[INFO] Reading data\")\n",
    "    train_df = pd.read_csv(os.path.join(args.train, args.train_file))\n",
    "    test_df = pd.read_csv(os.path.join(args.test, args.test_file))\n",
    "\n",
    "    print(\"Selecting relevant features\")\n",
    "    relevant_features = ['acousticness', 'danceability', 'energy', 'instrumentalness', 'loudness', 'speechiness', 'tempo', 'valence']\n",
    "\n",
    "    # Generate mixing scores using the function from mixing_scores_generator.py\n",
    "    train_df['mixing score'] = generate_mixing_scores(train_df, relevant_features)\n",
    "\n",
    "    X_train = train_df[relevant_features]\n",
    "    y_train = train_df['mixing score']\n",
    "\n",
    "    print(train_df.head())\n",
    "\n",
    "    # Train Linear Regression Model\n",
    "    model = LinearRegression()\n",
    "    model.fit(X_train, y_train)\n",
    "\n",
    "    model_path = os.path.join(args.model_dir, \"model.joblib\")\n",
    "    joblib.dump(model, model_path)\n",
    "    print(\"Model persisted at:\", model_path)\n",
    "\n",
    "    y_pred_missing = []  # Initialize y_pred_missing\n",
    "    \n",
    "    # Fill -999.0 and NaN values in 'mixing score' column of test data with predicted scores\n",
    "    X_missing = test_df[relevant_features][(test_df['mixing score'] == -999.0) | (test_df['mixing score'].isnull())]\n",
    "    if not X_missing.empty:\n",
    "        y_pred_missing = model.predict(X_missing)\n",
    "\n",
    "        missing_indices = test_df.index[(test_df['mixing score'] == -999.0) | (test_df['mixing score'].isnull())]\n",
    "        print(\"Missing Indices:\", missing_indices)\n",
    "    \n",
    "        for idx, pred_score in zip(missing_indices, y_pred_missing):\n",
    "            test_df.at[idx, 'mixing score'] = pred_score\n",
    "\n",
    "        print(\"Updated test_df:\")\n",
    "        print(test_df.head())\n",
    "\n",
    "        # Print 'mixing score' column before and after filling -999.0 and NaN values\n",
    "        print(\"Before filling -999.0 and NaN:\")\n",
    "        print(test_df[(test_df['mixing score'] == -999.0) | (test_df['mixing score'].isnull())]['mixing score'])\n",
    "    \n",
    "        # Fill -999.0 and NaN values as before\n",
    "        print(\"After filling -999.0 and NaN:\")\n",
    "        print(test_df[(test_df['mixing score'] == -999.0) | (test_df['mixing score'].isnull())]['mixing score'])\n",
    "\n",
    "\n",
    "    # Save the modified test dataset\n",
    "    modified_test_path = os.path.join(args.test, args.test_file)\n",
    "    test_df.to_csv(modified_test_path, index=False)\n",
    "    print(\"Modified test dataset saved at:\", modified_test_path)\n",
    "\n",
    "    print(test_df.head())\n",
    "\n",
    "if __name__ == \"__main__\":\n",
    "    main()\n"
   ]
  },
  {
   "cell_type": "code",
   "execution_count": 1,
   "metadata": {},
   "outputs": [],
   "source": [
    "from sagemaker.sklearn.estimator import SKLearn\n",
    "\n",
    "s3_test_data = \"s3://dj-doc-bucket/sagemaker/dj-mixing-analysis/sklearncontainer/test-V-1.csv\"\n",
    "s3_train_data = \"s3://dj-doc-bucket/sagemaker/dj-mixing-analysis/sklearncontainer/train-V-1.csv\"\n",
    "\n",
    "# Set up SKLearn estimator\n",
    "FRAMEWORK_VERSION = \"0.23-1\"\n",
    "\n",
    "sklearn_estimator = SKLearn(\n",
    "    entry_point=\"script.py\",\n",
    "    role=\"arn:aws:iam::052461647457:role/service-role/AmazonSageMaker-ExecutionRole-20230803T210602\",\n",
    "    instance_count=1,\n",
    "    instance_type=\"ml.m5.large\",\n",
    "    framework_version=FRAMEWORK_VERSION,\n",
    "    base_job_name=\"LinearRegression-custom-sklearn\",\n",
    "    use_spot_instances=True,\n",
    "    max_wait=7200,\n",
    "    max_run=3600\n",
    ")\n",
    "\n"
   ]
  },
  {
   "cell_type": "code",
   "execution_count": 3,
   "metadata": {},
   "outputs": [
    {
     "name": "stdout",
     "output_type": "stream",
     "text": [
      "Using provided s3_resource\n"
     ]
    },
    {
     "name": "stderr",
     "output_type": "stream",
     "text": [
      "INFO:sagemaker:Creating training-job with name: LinearRegression-custom-sklearn-2023-08-14-04-39-39-752\n"
     ]
    },
    {
     "name": "stdout",
     "output_type": "stream",
     "text": [
      "2023-08-14 04:39:40 Starting - Starting the training job...\n",
      "2023-08-14 04:39:56 Starting - Preparing the instances for training......\n",
      "2023-08-14 04:40:54 Downloading - Downloading input data...\n",
      "2023-08-14 04:41:25 Training - Downloading the training image...\n",
      "2023-08-14 04:42:11 Uploading - Uploading generated training model2023-08-14 04:42:05,526 sagemaker-containers INFO     Imported framework sagemaker_sklearn_container.training\n",
      "2023-08-14 04:42:05,530 sagemaker-training-toolkit INFO     No GPUs detected (normal if no gpus installed)\n",
      "2023-08-14 04:42:05,576 sagemaker_sklearn_container.training INFO     Invoking user training script.\n",
      "2023-08-14 04:42:05,728 sagemaker-training-toolkit INFO     No GPUs detected (normal if no gpus installed)\n",
      "2023-08-14 04:42:05,741 sagemaker-training-toolkit INFO     No GPUs detected (normal if no gpus installed)\n",
      "2023-08-14 04:42:05,754 sagemaker-training-toolkit INFO     No GPUs detected (normal if no gpus installed)\n",
      "2023-08-14 04:42:05,763 sagemaker-training-toolkit INFO     Invoking user script\n",
      "Training Env:\n",
      "{\n",
      "    \"additional_framework_parameters\": {},\n",
      "    \"channel_input_dirs\": {\n",
      "        \"test\": \"/opt/ml/input/data/test\",\n",
      "        \"train\": \"/opt/ml/input/data/train\"\n",
      "    },\n",
      "    \"current_host\": \"algo-1\",\n",
      "    \"framework_module\": \"sagemaker_sklearn_container.training:main\",\n",
      "    \"hosts\": [\n",
      "        \"algo-1\"\n",
      "    ],\n",
      "    \"hyperparameters\": {},\n",
      "    \"input_config_dir\": \"/opt/ml/input/config\",\n",
      "    \"input_data_config\": {\n",
      "        \"test\": {\n",
      "            \"TrainingInputMode\": \"File\",\n",
      "            \"S3DistributionType\": \"FullyReplicated\",\n",
      "            \"RecordWrapperType\": \"None\"\n",
      "        },\n",
      "        \"train\": {\n",
      "            \"TrainingInputMode\": \"File\",\n",
      "            \"S3DistributionType\": \"FullyReplicated\",\n",
      "            \"RecordWrapperType\": \"None\"\n",
      "        }\n",
      "    },\n",
      "    \"input_dir\": \"/opt/ml/input\",\n",
      "    \"is_master\": true,\n",
      "    \"job_name\": \"LinearRegression-custom-sklearn-2023-08-14-04-39-39-752\",\n",
      "    \"log_level\": 20,\n",
      "    \"master_hostname\": \"algo-1\",\n",
      "    \"model_dir\": \"/opt/ml/model\",\n",
      "    \"module_dir\": \"s3://sagemaker-us-east-1-052461647457/LinearRegression-custom-sklearn-2023-08-14-04-39-39-752/source/sourcedir.tar.gz\",\n",
      "    \"module_name\": \"script\",\n",
      "    \"network_interface_name\": \"eth0\",\n",
      "    \"num_cpus\": 2,\n",
      "    \"num_gpus\": 0,\n",
      "    \"output_data_dir\": \"/opt/ml/output/data\",\n",
      "    \"output_dir\": \"/opt/ml/output\",\n",
      "    \"output_intermediate_dir\": \"/opt/ml/output/intermediate\",\n",
      "    \"resource_config\": {\n",
      "        \"current_host\": \"algo-1\",\n",
      "        \"current_instance_type\": \"ml.m5.large\",\n",
      "        \"current_group_name\": \"homogeneousCluster\",\n",
      "        \"hosts\": [\n",
      "            \"algo-1\"\n",
      "        ],\n",
      "        \"instance_groups\": [\n",
      "            {\n",
      "                \"instance_group_name\": \"homogeneousCluster\",\n",
      "                \"instance_type\": \"ml.m5.large\",\n",
      "                \"hosts\": [\n",
      "                    \"algo-1\"\n",
      "                ]\n",
      "            }\n",
      "        ],\n",
      "        \"network_interface_name\": \"eth0\"\n",
      "    },\n",
      "    \"user_entry_point\": \"script.py\"\n",
      "}\n",
      "Environment variables:\n",
      "SM_HOSTS=[\"algo-1\"]\n",
      "SM_NETWORK_INTERFACE_NAME=eth0\n",
      "SM_HPS={}\n",
      "SM_USER_ENTRY_POINT=script.py\n",
      "SM_FRAMEWORK_PARAMS={}\n",
      "SM_RESOURCE_CONFIG={\"current_group_name\":\"homogeneousCluster\",\"current_host\":\"algo-1\",\"current_instance_type\":\"ml.m5.large\",\"hosts\":[\"algo-1\"],\"instance_groups\":[{\"hosts\":[\"algo-1\"],\"instance_group_name\":\"homogeneousCluster\",\"instance_type\":\"ml.m5.large\"}],\"network_interface_name\":\"eth0\"}\n",
      "SM_INPUT_DATA_CONFIG={\"test\":{\"RecordWrapperType\":\"None\",\"S3DistributionType\":\"FullyReplicated\",\"TrainingInputMode\":\"File\"},\"train\":{\"RecordWrapperType\":\"None\",\"S3DistributionType\":\"FullyReplicated\",\"TrainingInputMode\":\"File\"}}\n",
      "SM_OUTPUT_DATA_DIR=/opt/ml/output/data\n",
      "SM_CHANNELS=[\"test\",\"train\"]\n",
      "SM_CURRENT_HOST=algo-1\n",
      "SM_MODULE_NAME=script\n",
      "SM_LOG_LEVEL=20\n",
      "SM_FRAMEWORK_MODULE=sagemaker_sklearn_container.training:main\n",
      "SM_INPUT_DIR=/opt/ml/input\n",
      "SM_INPUT_CONFIG_DIR=/opt/ml/input/config\n",
      "SM_OUTPUT_DIR=/opt/ml/output\n",
      "SM_NUM_CPUS=2\n",
      "SM_NUM_GPUS=0\n",
      "SM_MODEL_DIR=/opt/ml/model\n",
      "SM_MODULE_DIR=s3://sagemaker-us-east-1-052461647457/LinearRegression-custom-sklearn-2023-08-14-04-39-39-752/source/sourcedir.tar.gz\n",
      "SM_TRAINING_ENV={\"additional_framework_parameters\":{},\"channel_input_dirs\":{\"test\":\"/opt/ml/input/data/test\",\"train\":\"/opt/ml/input/data/train\"},\"current_host\":\"algo-1\",\"framework_module\":\"sagemaker_sklearn_container.training:main\",\"hosts\":[\"algo-1\"],\"hyperparameters\":{},\"input_config_dir\":\"/opt/ml/input/config\",\"input_data_config\":{\"test\":{\"RecordWrapperType\":\"None\",\"S3DistributionType\":\"FullyReplicated\",\"TrainingInputMode\":\"File\"},\"train\":{\"RecordWrapperType\":\"None\",\"S3DistributionType\":\"FullyReplicated\",\"TrainingInputMode\":\"File\"}},\"input_dir\":\"/opt/ml/input\",\"is_master\":true,\"job_name\":\"LinearRegression-custom-sklearn-2023-08-14-04-39-39-752\",\"log_level\":20,\"master_hostname\":\"algo-1\",\"model_dir\":\"/opt/ml/model\",\"module_dir\":\"s3://sagemaker-us-east-1-052461647457/LinearRegression-custom-sklearn-2023-08-14-04-39-39-752/source/sourcedir.tar.gz\",\"module_name\":\"script\",\"network_interface_name\":\"eth0\",\"num_cpus\":2,\"num_gpus\":0,\"output_data_dir\":\"/opt/ml/output/data\",\"output_dir\":\"/opt/ml/output\",\"output_intermediate_dir\":\"/opt/ml/output/intermediate\",\"resource_config\":{\"current_group_name\":\"homogeneousCluster\",\"current_host\":\"algo-1\",\"current_instance_type\":\"ml.m5.large\",\"hosts\":[\"algo-1\"],\"instance_groups\":[{\"hosts\":[\"algo-1\"],\"instance_group_name\":\"homogeneousCluster\",\"instance_type\":\"ml.m5.large\"}],\"network_interface_name\":\"eth0\"},\"user_entry_point\":\"script.py\"}\n",
      "SM_USER_ARGS=[]\n",
      "SM_OUTPUT_INTERMEDIATE_DIR=/opt/ml/output/intermediate\n",
      "SM_CHANNEL_TEST=/opt/ml/input/data/test\n",
      "SM_CHANNEL_TRAIN=/opt/ml/input/data/train\n",
      "PYTHONPATH=/opt/ml/code:/miniconda3/bin:/miniconda3/lib/python37.zip:/miniconda3/lib/python3.7:/miniconda3/lib/python3.7/lib-dynload:/miniconda3/lib/python3.7/site-packages\n",
      "Invoking script with the following command:\n",
      "/miniconda3/bin/python script.py\n",
      "[INFO] Extracting Arguments\n",
      "[INFO] Reading data\n",
      "Selecting relevant features\n",
      "Feature Values DataFrame:\n",
      "        acousticness  danceability  energy  ...  speechiness    tempo  valence\n",
      "0            0.00153         0.485   0.662  ...       0.0410  139.687    0.631\n",
      "1            0.61300         0.405   0.664  ...       0.0328   81.924    0.400\n",
      "2            0.55000         0.781   0.444  ...       0.0511  104.395    0.598\n",
      "3            0.10900         0.774   0.480  ...       0.2280   96.067    0.332\n",
      "4            0.01330         0.542   0.632  ...       0.0298  122.101    0.619\n",
      "...              ...           ...     ...  ...          ...      ...      ...\n",
      "144417       0.18500         0.686   0.561  ...       0.1910  148.775    0.186\n",
      "144418       0.04000         0.589   0.867  ...       0.0385   94.519    0.795\n",
      "144419       0.00767         0.819   0.844  ...       0.0380  127.997    0.687\n",
      "144420       0.97300         0.531   0.263  ...       0.0463   82.010    0.713\n",
      "144421       0.21000         0.436   0.781  ...       0.0709   86.645    0.541\n",
      "[144422 rows x 8 columns]\n",
      "Shape of feature_values: (144422, 8)\n",
      "Shape of weights: (8,)\n",
      "Mixing Scores: [16.33794125  9.81772513 11.81676267 ... 15.83275125  8.5165375\n",
      "  9.72024069]\n",
      "   acousticness                        artists  ...  year  mixing score\n",
      "0       0.00153              ['Black Sabbath']  ...  1976     16.337941\n",
      "1       0.61300               ['Arijit Singh']  ...  2020      9.817725\n",
      "2       0.55000               ['Tyrone Davis']  ...  2000     11.816763\n",
      "3       0.10900  ['Foxy Brown', 'Blackstreet']  ...  1996     11.423958\n",
      "4       0.01330            ['Honeymoon Suite']  ...  1984     14.020139\n",
      "[5 rows x 20 columns]\n",
      "Training Model...\n",
      "Model persisted at: /opt/ml/model/model.joblib\n",
      "Missing Indices: Int64Index([    0,     1,     2,     3,     4,     5,     6,     7,     8,\n",
      "                9,\n",
      "            ...\n",
      "            25477, 25478, 25479, 25480, 25481, 25482, 25483, 25484, 25485,\n",
      "            25486],\n",
      "           dtype='int64', length=25487)\n",
      "Updated test_df:\n",
      "   acousticness                 artists  ...  year  mixing score\n",
      "0      0.118000      ['Chubby Checker']  ...  1963      9.789813\n",
      "1      0.577000          ['Ben Harper']  ...  2007     13.055738\n",
      "2      0.939000         ['Dean Martin']  ...  1954      8.542117\n",
      "3      0.000156          ['Gang Green']  ...  1986     12.123485\n",
      "4      0.001120  ['The Birthday Party']  ...  1981     12.833415\n",
      "[5 rows x 20 columns]\n",
      "Before filling -999.0 and NaN:\n",
      "Series([], Name: mixing score, dtype: float64)\n",
      "After filling -999.0 and NaN:\n",
      "Series([], Name: mixing score, dtype: float64)\n",
      "Modified test dataset saved at: /opt/ml/input/data/test/test-V-1.csv\n",
      "   acousticness                 artists  ...  year  mixing score\n",
      "0      0.118000      ['Chubby Checker']  ...  1963      9.789813\n",
      "1      0.577000          ['Ben Harper']  ...  2007     13.055738\n",
      "2      0.939000         ['Dean Martin']  ...  1954      8.542117\n",
      "3      0.000156          ['Gang Green']  ...  1986     12.123485\n",
      "4      0.001120  ['The Birthday Party']  ...  1981     12.833415\n",
      "[5 rows x 20 columns]\n",
      "2023-08-14 04:42:08,057 sagemaker-containers INFO     Reporting training SUCCESS\n",
      "\n",
      "2023-08-14 04:42:26 Completed - Training job completed\n",
      "Training seconds: 92\n",
      "Billable seconds: 60\n",
      "Managed Spot Training savings: 34.8%\n"
     ]
    }
   ],
   "source": [
    "sklearn_estimator.fit({\"train\": s3_train_data, \"test\": s3_test_data}, wait=True)"
   ]
  },
  {
   "cell_type": "code",
   "execution_count": 8,
   "metadata": {},
   "outputs": [
    {
     "name": "stdout",
     "output_type": "stream",
     "text": [
      "\n",
      "2023-08-14 04:42:26 Starting - Preparing the instances for training\n",
      "2023-08-14 04:42:26 Downloading - Downloading input data\n",
      "2023-08-14 04:42:26 Training - Training image download completed. Training in progress.\n",
      "2023-08-14 04:42:26 Uploading - Uploading generated training model\n",
      "2023-08-14 04:42:26 Completed - Training job completed\n",
      "Model artifact persisted at: s3://sagemaker-us-east-1-052461647457/LinearRegression-custom-sklearn-2023-08-14-04-39-39-752/output/model.tar.gz\n"
     ]
    }
   ],
   "source": [
    "import boto3\n",
    "\n",
    "sklearn_estimator.latest_training_job.wait(logs=\"None\")\n",
    "\n",
    "sagemaker_client = boto3.client('sagemaker')\n",
    "artifact = sagemaker_client.describe_training_job(\n",
    "    TrainingJobName = sklearn_estimator.latest_training_job.name\n",
    ")[\"ModelArtifacts\"][\"S3ModelArtifacts\"]\n",
    "\n",
    "print(\"Model artifact persisted at: \" + artifact)"
   ]
  },
  {
   "cell_type": "code",
   "execution_count": 9,
   "metadata": {},
   "outputs": [],
   "source": [
    "from sagemaker.sklearn.model import SKLearnModel\n",
    "from time import gmtime, strftime\n",
    "\n",
    "model_name = \"Custom-SKLearn-Model-\" + strftime(\"%Y-%m-%d-%H-%M-%S\", gmtime())\n",
    "model = SKLearnModel(\n",
    "    name = model_name,\n",
    "    model_data = artifact,\n",
    "    role = \"arn:aws:iam::052461647457:role/service-role/AmazonSageMaker-ExecutionRole-20230803T210602\",\n",
    "    entry_point=\"script.py\",\n",
    "    framework_version=FRAMEWORK_VERSION\n",
    ")"
   ]
  },
  {
   "cell_type": "code",
   "execution_count": 10,
   "metadata": {},
   "outputs": [
    {
     "data": {
      "text/plain": [
       "<sagemaker.sklearn.model.SKLearnModel at 0x16c2bfbe0>"
      ]
     },
     "execution_count": 10,
     "metadata": {},
     "output_type": "execute_result"
    }
   ],
   "source": [
    "model"
   ]
  },
  {
   "cell_type": "code",
   "execution_count": 11,
   "metadata": {},
   "outputs": [
    {
     "name": "stdout",
     "output_type": "stream",
     "text": [
      "EndpointName=Custom-SKLearn-Model-2023-08-14-05-07-10\n"
     ]
    },
    {
     "name": "stderr",
     "output_type": "stream",
     "text": [
      "INFO:sagemaker:Creating model with name: Custom-SKLearn-Model-2023-08-14-05-03-34\n",
      "INFO:sagemaker:Creating endpoint-config with name Custom-SKLearn-Model-2023-08-14-05-07-10\n",
      "INFO:sagemaker:Creating endpoint with name Custom-SKLearn-Model-2023-08-14-05-07-10\n"
     ]
    },
    {
     "name": "stdout",
     "output_type": "stream",
     "text": [
      "----!"
     ]
    }
   ],
   "source": [
    "# Endpoint Deploy\n",
    "endpoint_name = \"Custom-SKLearn-Model-\" + strftime(\"%Y-%m-%d-%H-%M-%S\", gmtime())\n",
    "print(\"EndpointName={}\".format(endpoint_name))\n",
    "\n",
    "predictor = model.deploy(\n",
    "    initial_instance_count=1,\n",
    "    instance_type=\"ml.m5.large\",\n",
    "    endpoint_name=endpoint_name\n",
    ")"
   ]
  },
  {
   "cell_type": "code",
   "execution_count": 27,
   "metadata": {},
   "outputs": [
    {
     "name": "stdout",
     "output_type": "stream",
     "text": [
      "Mixing Scores: [14.062500007450579, 17.137500005774196, 15.487500007264314, 18.937500001862645]\n"
     ]
    }
   ],
   "source": [
    "import boto3\n",
    "\n",
    "# Replace with the endpoint name you already have\n",
    "endpoint_name = \"Custom-SKLearn-Model-2023-08-14-05-07-10\"\n",
    "\n",
    "# Initialize the SageMaker Runtime client\n",
    "sagemaker_runtime = boto3.client(\"sagemaker-runtime\")\n",
    "\n",
    "# Define your input data for prediction as a list of lists\n",
    "input_data = [\n",
    "    [0.2, 0.2, 0.3, 0.6, -10.0, 0.4, 120.0, 0.8],\n",
    "    [0.4, 0.1, 0.5, 0.3, -5.0, 0.2, 140.0, 0.6],\n",
    "    [0.6, 0.2, 0.4, 0.3, -8.0, 0.1, 130.0, 0.3],\n",
    "    [0.8, 0.3, 0.2, 0.5, -12.0, 0.8, 160.0, 0.9]\n",
    "]\n",
    "\n",
    "# Convert input data to CSV format\n",
    "csv_input = \"\\n\".join([\",\".join(map(str, row)) for row in input_data])\n",
    "\n",
    "# Invoke the endpoint and make predictions\n",
    "response = sagemaker_runtime.invoke_endpoint(\n",
    "    EndpointName=endpoint_name,\n",
    "    ContentType=\"text/csv\",  # Specify content type as CSV\n",
    "    Body=csv_input.encode(\"utf-8\")\n",
    ")\n",
    "\n",
    "# Parse and print the predictions\n",
    "predictions = response[\"Body\"].read().decode(\"utf-8\")\n",
    "print(\"Mixing Scores: \" + predictions)\n"
   ]
  }
 ],
 "metadata": {
  "kernelspec": {
   "display_name": "Python 3",
   "language": "python",
   "name": "python3"
  },
  "language_info": {
   "codemirror_mode": {
    "name": "ipython",
    "version": 3
   },
   "file_extension": ".py",
   "mimetype": "text/x-python",
   "name": "python",
   "nbconvert_exporter": "python",
   "pygments_lexer": "ipython3",
   "version": "3.8.17"
  },
  "orig_nbformat": 4
 },
 "nbformat": 4,
 "nbformat_minor": 2
}
